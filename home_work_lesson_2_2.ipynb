{
  "nbformat": 4,
  "nbformat_minor": 0,
  "metadata": {
    "colab": {
      "provenance": []
    },
    "kernelspec": {
      "name": "python3",
      "display_name": "Python 3"
    },
    "language_info": {
      "name": "python"
    }
  },
  "cells": [
    {
      "cell_type": "markdown",
      "source": [
        "**Парсер Mail.ru упорно выдает пустой список. В коде ниже пробовал на выводе одного параметра (поэтому остальные закоммичены), но при любом (адекватном) пути к источнику информации выдает пустой список.**"
      ],
      "metadata": {
        "id": "Jcr_4aYE42D6"
      }
    },
    {
      "cell_type": "code",
      "execution_count": null,
      "metadata": {
        "id": "LbHDlADGTkhc"
      },
      "outputs": [],
      "source": [
        "from pprint import pprint\n",
        "from lxml import html\n",
        "import requests\n",
        "import pandas as pd"
      ]
    },
    {
      "cell_type": "code",
      "source": [
        "USER_AGENT = 'Mozilla/5.0 (Windows NT 10.0; Win64; x64) AppleWebKit/537.36 (KHTML, like Gecko) Chrome/110.0.0.0 Safari/537.36'\n",
        "URL_MAIL_NEWS = 'https://mail.ru/news/'"
      ],
      "metadata": {
        "id": "JJuhRwIgTl1q"
      },
      "execution_count": null,
      "outputs": []
    },
    {
      "cell_type": "code",
      "source": [
        "headers = {\n",
        "    'User-Agent': USER_AGENT,\n",
        "}\n",
        "\n",
        "params = {\n",
        "    'sso_failed': '',\n",
        "}"
      ],
      "metadata": {
        "id": "T0tBllYhTojJ"
      },
      "execution_count": null,
      "outputs": []
    },
    {
      "cell_type": "code",
      "source": [
        "def get_content_dom_from_html_text(url, headers=None, params=None):\n",
        "    response = requests.get(url, headers=headers, params=params)\n",
        "    content_dom = html.fromstring(response.text)\n",
        "\n",
        "    print(response.url)\n",
        "    \n",
        "    return content_dom"
      ],
      "metadata": {
        "id": "j6j76-ZWTp7c"
      },
      "execution_count": null,
      "outputs": []
    },
    {
      "cell_type": "code",
      "source": [
        "def parser_mail_news(content_dom):\n",
        "    news_container = content_dom.xpath(\"//ul[@class= 'tabs-content cfe-kcal__1a5eptm tabs-content_unified']\")\n",
        "    mail_news = []\n",
        "    for new_container in news_container:\n",
        "        new_source = new_container.xpath(\".//li/@name\")[0]\n",
        "        #new_text = new_container.xpath(\".//h2/a/text()\")[0].replace('\\xa0', ' ')\n",
        "        #new_link = new_container.xpath(\".//h2/a/@href\")[0]\n",
        "        #new_date = new_container.xpath(\".//span[@class='mg-card-source__time']/text()\")[0]\n",
        "        news_dict = {\n",
        "            'new_source': new_source,\n",
        "            #'new_text': new_text,\n",
        "            #'new_link': new_link,\n",
        "            #'new_date': new_date,\n",
        "        }\n",
        "        mail_news.append(news_dict)\n",
        "\n",
        "    return mail_news"
      ],
      "metadata": {
        "id": "TaN0P8c7Trok"
      },
      "execution_count": null,
      "outputs": []
    },
    {
      "cell_type": "code",
      "source": [
        "def get_news(content_dom, parser_name='mail'):\n",
        "    result = None\n",
        "    \n",
        "    if parser_name == 'dzen':\n",
        "      result = parser_dzen_news(content_dom)\n",
        "    elif parser_name == 'mail':\n",
        "      result = parser_mail_news(content_dom)\n",
        "    elif parser_name == 'lenta':\n",
        "      result = parser_lenta_news(content_dom)\n",
        "    \n",
        "    return result"
      ],
      "metadata": {
        "id": "WD6OCwkSTtT6"
      },
      "execution_count": null,
      "outputs": []
    },
    {
      "cell_type": "code",
      "source": [
        "dom = get_content_dom_from_html_text(URL_MAIL_NEWS, headers=headers, params=params)"
      ],
      "metadata": {
        "colab": {
          "base_uri": "https://localhost:8080/"
        },
        "id": "z5AxldhQTxQ5",
        "outputId": "da3b57f4-15e3-4aa4-9cf0-9adda961613f"
      },
      "execution_count": null,
      "outputs": [
        {
          "output_type": "stream",
          "name": "stdout",
          "text": [
            "https://mail.ru\n"
          ]
        }
      ]
    },
    {
      "cell_type": "code",
      "source": [
        "mail_news = get_news(dom, 'mail')\n",
        "mail_news"
      ],
      "metadata": {
        "colab": {
          "base_uri": "https://localhost:8080/"
        },
        "id": "Zw8ImEhjT0rw",
        "outputId": "067f134a-89e6-4df2-9182-01de7eb4e9fc"
      },
      "execution_count": null,
      "outputs": [
        {
          "output_type": "execute_result",
          "data": {
            "text/plain": [
              "[]"
            ]
          },
          "metadata": {},
          "execution_count": 123
        }
      ]
    }
  ]
}