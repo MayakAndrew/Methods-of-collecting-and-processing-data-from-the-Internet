{
  "nbformat": 4,
  "nbformat_minor": 0,
  "metadata": {
    "colab": {
      "provenance": []
    },
    "kernelspec": {
      "name": "python3",
      "display_name": "Python 3"
    },
    "language_info": {
      "name": "python"
    }
  },
  "cells": [
    {
      "cell_type": "code",
      "execution_count": null,
      "metadata": {
        "colab": {
          "base_uri": "https://localhost:8080/"
        },
        "id": "Mo91INzMsv7Z",
        "outputId": "2e4a4dd8-0781-44d4-aa3d-3ee82e11faaf"
      },
      "outputs": [
        {
          "output_type": "stream",
          "name": "stdout",
          "text": [
            "Looking in indexes: https://pypi.org/simple, https://us-python.pkg.dev/colab-wheels/public/simple/\n",
            "Requirement already satisfied: requests in /usr/local/lib/python3.8/dist-packages (2.25.1)\n",
            "Requirement already satisfied: certifi>=2017.4.17 in /usr/local/lib/python3.8/dist-packages (from requests) (2022.12.7)\n",
            "Requirement already satisfied: chardet<5,>=3.0.2 in /usr/local/lib/python3.8/dist-packages (from requests) (4.0.0)\n",
            "Requirement already satisfied: urllib3<1.27,>=1.21.1 in /usr/local/lib/python3.8/dist-packages (from requests) (1.24.3)\n",
            "Requirement already satisfied: idna<3,>=2.5 in /usr/local/lib/python3.8/dist-packages (from requests) (2.10)\n"
          ]
        }
      ],
      "source": [
        "!pip install requests"
      ]
    },
    {
      "cell_type": "markdown",
      "source": [
        "**Задание 1. Посмотреть документацию к API GitHub, разобраться как вывести список репозиториев для конкретного пользователя, сохранить JSON-вывод в файле *.json.**"
      ],
      "metadata": {
        "id": "WVqGkKJJ3mY3"
      }
    },
    {
      "cell_type": "code",
      "source": [
        "import requests\n",
        "import json\n",
        "from pprint import pprint"
      ],
      "metadata": {
        "id": "9d0jW9vQs49a"
      },
      "execution_count": 1,
      "outputs": []
    },
    {
      "cell_type": "code",
      "source": [
        "url = 'https://api.github.com'\n",
        "user='MayakAndrew'"
      ],
      "metadata": {
        "id": "LY9bYmLhfgCc"
      },
      "execution_count": 2,
      "outputs": []
    },
    {
      "cell_type": "code",
      "source": [
        "r = requests.get(f'{url}/users/{user}/repos')\n",
        "pprint(r.json)"
      ],
      "metadata": {
        "colab": {
          "base_uri": "https://localhost:8080/"
        },
        "id": "nMcuYGqDfwCJ",
        "outputId": "c91143a3-ebe6-4688-fce0-4007a51b4fa0"
      },
      "execution_count": 4,
      "outputs": [
        {
          "output_type": "stream",
          "name": "stdout",
          "text": [
            "<bound method Response.json of <Response [200]>>\n"
          ]
        }
      ]
    },
    {
      "cell_type": "code",
      "source": [
        "with open('data.json', 'w') as f:\n",
        "    json.dump(r.json(), f)"
      ],
      "metadata": {
        "id": "jF4YERwBgm5k"
      },
      "execution_count": 5,
      "outputs": []
    },
    {
      "cell_type": "code",
      "source": [
        "for i in r.json():\n",
        "    print(i['name'])"
      ],
      "metadata": {
        "colab": {
          "base_uri": "https://localhost:8080/"
        },
        "id": "ga0M6LQFgpKq",
        "outputId": "6f234b4a-6874-4ceb-d95c-ac790bd68f0d"
      },
      "execution_count": 6,
      "outputs": [
        {
          "output_type": "stream",
          "name": "stdout",
          "text": [
            "-_-\n",
            "hello1\n",
            "Methods-of-collecting-and-processing-data-from-the-Internet\n",
            "python\n",
            "python_library\n",
            "TViMS\n"
          ]
        }
      ]
    },
    {
      "cell_type": "markdown",
      "source": [
        "**Задание 2. Изучить список открытых API (https://www.programmableweb.com/category/all/apis). Найти среди них любое, требующее авторизацию (любого типа). Выполнить запросы к нему, пройдя авторизацию. Ответ сервера записать в файл.**"
      ],
      "metadata": {
        "id": "oThRj15OolIo"
      }
    },
    {
      "cell_type": "code",
      "source": [
        "url = 'https://postman-echo.com/basic-auth'\n",
        "token = 'Basic cG9zdG1hbjpwYXNzd29yZA=='"
      ],
      "metadata": {
        "id": "JvVeICpKKYih"
      },
      "execution_count": 7,
      "outputs": []
    },
    {
      "cell_type": "code",
      "source": [
        "headers = {\n",
        "    'Content-Type': 'application/json', \\\n",
        "    'Authorization': token\n",
        "}"
      ],
      "metadata": {
        "id": "zV3MVz6QKa-V"
      },
      "execution_count": 8,
      "outputs": []
    },
    {
      "cell_type": "code",
      "source": [
        "response = requests.get(f'{url}', headers=headers)"
      ],
      "metadata": {
        "id": "jFhEWGj-Kc-0"
      },
      "execution_count": 9,
      "outputs": []
    },
    {
      "cell_type": "code",
      "source": [
        "print('Заголовки: \\n',  response.headers)"
      ],
      "metadata": {
        "colab": {
          "base_uri": "https://localhost:8080/"
        },
        "id": "dOduLvl7Keub",
        "outputId": "95c50a15-42e4-475e-8707-71ccf9f5b81d"
      },
      "execution_count": 10,
      "outputs": [
        {
          "output_type": "stream",
          "name": "stdout",
          "text": [
            "Заголовки: \n",
            " {'Date': 'Tue, 14 Feb 2023 16:21:52 GMT', 'Content-Type': 'application/json; charset=utf-8', 'Content-Length': '22', 'Connection': 'keep-alive', 'ETag': 'W/\"16-sJz8uwjdDv0wvm7//BYdNw8vMbU\"', 'Vary': 'Accept-Encoding', 'set-cookie': 'sails.sid=s%3AOc_SLHEqPA6BlycmseyK0vR-56u2_4AV.nARjNkPNEi48%2FZTFKvt1tby2%2Fj3855tSTNBjvpEiNWI; Path=/; HttpOnly'}\n"
          ]
        }
      ]
    },
    {
      "cell_type": "code",
      "source": [
        "print('Ответ: \\n',  response.json())"
      ],
      "metadata": {
        "colab": {
          "base_uri": "https://localhost:8080/"
        },
        "id": "F-stsxiJKgF0",
        "outputId": "8542696b-d93e-4b7f-bcff-061895ebd963"
      },
      "execution_count": 11,
      "outputs": [
        {
          "output_type": "stream",
          "name": "stdout",
          "text": [
            "Ответ: \n",
            " {'authenticated': True}\n"
          ]
        }
      ]
    },
    {
      "cell_type": "code",
      "source": [
        "with open('response.json', 'w') as f:\n",
        "    json.dump(response.json(), f)"
      ],
      "metadata": {
        "id": "vfqe2UleKikn"
      },
      "execution_count": 12,
      "outputs": []
    }
  ]
}